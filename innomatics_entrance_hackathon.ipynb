{
 "cells": [
  {
   "cell_type": "markdown",
   "id": "47c703ff",
   "metadata": {},
   "source": [
    "**1. Download the data from the above link. How many \".csv\" files are available in the dataset?**"
   ]
  },
  {
   "cell_type": "code",
   "execution_count": 2,
   "id": "c0a49f5c",
   "metadata": {},
   "outputs": [
    {
     "name": "stdout",
     "output_type": "stream",
     "text": [
      "Number of '.csv' files in the dataset: 4\n",
      "['links.csv', 'movies.csv', 'ratings.csv', 'tags.csv']\n"
     ]
    }
   ],
   "source": [
    "import os\n",
    "\n",
    "dataset_folder_path = 'C:\\\\Users\\\\neera\\\\Downloads\\\\movie_data'\n",
    "\n",
    "all_files = os.listdir(dataset_folder_path)\n",
    "\n",
    "csv_files = [file for file in all_files if file.endswith('.csv')]\n",
    "num_csv_files = len(csv_files)\n",
    "\n",
    "print(f\"Number of '.csv' files in the dataset: {num_csv_files}\")\n",
    "print(csv_files)\n"
   ]
  },
  {
   "cell_type": "code",
   "execution_count": 20,
   "id": "47736c58",
   "metadata": {},
   "outputs": [
    {
     "name": "stdout",
     "output_type": "stream",
     "text": [
      "MOVIES DATAFRAME\n",
      "       movieId                                      title  \\\n",
      "0           1                           Toy Story (1995)   \n",
      "1           2                             Jumanji (1995)   \n",
      "2           3                    Grumpier Old Men (1995)   \n",
      "3           4                   Waiting to Exhale (1995)   \n",
      "4           5         Father of the Bride Part II (1995)   \n",
      "...       ...                                        ...   \n",
      "9737   193581  Black Butler: Book of the Atlantic (2017)   \n",
      "9738   193583               No Game No Life: Zero (2017)   \n",
      "9739   193585                               Flint (2017)   \n",
      "9740   193587        Bungo Stray Dogs: Dead Apple (2018)   \n",
      "9741   193609        Andrew Dice Clay: Dice Rules (1991)   \n",
      "\n",
      "                                           genres  \n",
      "0     Adventure|Animation|Children|Comedy|Fantasy  \n",
      "1                      Adventure|Children|Fantasy  \n",
      "2                                  Comedy|Romance  \n",
      "3                            Comedy|Drama|Romance  \n",
      "4                                          Comedy  \n",
      "...                                           ...  \n",
      "9737              Action|Animation|Comedy|Fantasy  \n",
      "9738                     Animation|Comedy|Fantasy  \n",
      "9739                                        Drama  \n",
      "9740                             Action|Animation  \n",
      "9741                                       Comedy  \n",
      "\n",
      "[9742 rows x 3 columns]\n",
      "RATING DATAFRAME\n",
      "         userId  movieId  rating   timestamp\n",
      "0            1        1     4.0   964982703\n",
      "1            1        3     4.0   964981247\n",
      "2            1        6     4.0   964982224\n",
      "3            1       47     5.0   964983815\n",
      "4            1       50     5.0   964982931\n",
      "...        ...      ...     ...         ...\n",
      "100831     610   166534     4.0  1493848402\n",
      "100832     610   168248     5.0  1493850091\n",
      "100833     610   168250     5.0  1494273047\n",
      "100834     610   168252     5.0  1493846352\n",
      "100835     610   170875     3.0  1493846415\n",
      "\n",
      "[100836 rows x 4 columns]\n",
      "TAGS DATAFRAME\n",
      "       userId  movieId               tag   timestamp\n",
      "0          2    60756             funny  1445714994\n",
      "1          2    60756   Highly quotable  1445714996\n",
      "2          2    60756      will ferrell  1445714992\n",
      "3          2    89774      Boxing story  1445715207\n",
      "4          2    89774               MMA  1445715200\n",
      "...      ...      ...               ...         ...\n",
      "3678     606     7382         for katie  1171234019\n",
      "3679     606     7936           austere  1173392334\n",
      "3680     610     3265            gun fu  1493843984\n",
      "3681     610     3265  heroic bloodshed  1493843978\n",
      "3682     610   168248  Heroic Bloodshed  1493844270\n",
      "\n",
      "[3683 rows x 4 columns]\n",
      "LINKS DATAFRAME\n",
      "       movieId   imdbId    tmdbId\n",
      "0           1   114709     862.0\n",
      "1           2   113497    8844.0\n",
      "2           3   113228   15602.0\n",
      "3           4   114885   31357.0\n",
      "4           5   113041   11862.0\n",
      "...       ...      ...       ...\n",
      "9737   193581  5476944  432131.0\n",
      "9738   193583  5914996  445030.0\n",
      "9739   193585  6397426  479308.0\n",
      "9740   193587  8391976  483455.0\n",
      "9741   193609   101726   37891.0\n",
      "\n",
      "[9742 rows x 3 columns]\n"
     ]
    }
   ],
   "source": [
    "import pandas as pd\n",
    "\n",
    "dataset_folder_path = 'C:\\\\Users\\\\neera\\\\Downloads\\\\movie_data\\\\'\n",
    "\n",
    "movies_df = pd.read_csv(dataset_folder_path + 'movies.csv')\n",
    "ratings_df = pd.read_csv(dataset_folder_path + 'ratings.csv')\n",
    "tags_df = pd.read_csv(dataset_folder_path + 'tags.csv')\n",
    "links_df = pd.read_csv(dataset_folder_path + 'links.csv')\n",
    "\n",
    "print('MOVIES DATAFRAME\\n', movies_df)\n",
    "print('RATING DATAFRAME\\n', ratings_df)\n",
    "print('TAGS DATAFRAME\\n', tags_df)\n",
    "print('LINKS DATAFRAME\\n', links_df)\n",
    "\n",
    "\n",
    "\n"
   ]
  },
  {
   "cell_type": "markdown",
   "id": "265fced4",
   "metadata": {},
   "source": [
    "**2 . What is the shape of \"movies.csv\"?**\n"
   ]
  },
  {
   "cell_type": "code",
   "execution_count": 8,
   "id": "c0596dff",
   "metadata": {},
   "outputs": [
    {
     "name": "stdout",
     "output_type": "stream",
     "text": [
      "Shape of 'movies.csv': (9742, 3)\n"
     ]
    }
   ],
   "source": [
    "\n",
    "\n",
    "movies_df = pd.read_csv('C:\\\\Users\\\\neera\\\\Downloads\\\\movie_data\\\\movies.csv')  \n",
    "\n",
    "print(\"Shape of 'movies.csv':\", movies_df.shape)"
   ]
  },
  {
   "cell_type": "markdown",
   "id": "59e4d6a2",
   "metadata": {},
   "source": [
    "**3. What is the shape of \"ratings.csv\"?**"
   ]
  },
  {
   "cell_type": "code",
   "execution_count": 9,
   "id": "7a480f55",
   "metadata": {},
   "outputs": [
    {
     "name": "stdout",
     "output_type": "stream",
     "text": [
      "Shape of 'ratings.csv': (100836, 4)\n"
     ]
    }
   ],
   "source": [
    "ratings_df = pd.read_csv('C:\\\\Users\\\\neera\\\\Downloads\\\\movie_data\\\\ratings.csv')  \n",
    "\n",
    "print(\"Shape of 'ratings.csv':\", ratings_df.shape)"
   ]
  },
  {
   "cell_type": "markdown",
   "id": "0eacdb02",
   "metadata": {},
   "source": [
    "**4. How many unique \"userId\" are available in \"ratings.csv\"?**"
   ]
  },
  {
   "cell_type": "code",
   "execution_count": 12,
   "id": "31c14dba",
   "metadata": {},
   "outputs": [
    {
     "name": "stdout",
     "output_type": "stream",
     "text": [
      "Number of unique USERID in 'ratings.csv': 610\n"
     ]
    }
   ],
   "source": [
    "\n",
    "ratings_df = pd.read_csv('C:\\\\Users\\\\neera\\\\Downloads\\\\movie_data\\\\ratings.csv')  \n",
    "\n",
    "#number of unique user IDs\n",
    "num_unique_users = ratings_df['userId'].nunique()\n",
    "\n",
    "print(\"Number of unique USERID in 'ratings.csv':\", num_unique_users)"
   ]
  },
  {
   "cell_type": "markdown",
   "id": "df19941f",
   "metadata": {},
   "source": [
    "**5. Which movie has recieved maximum number of user ratings?**"
   ]
  },
  {
   "cell_type": "code",
   "execution_count": 14,
   "id": "dc34053f",
   "metadata": {},
   "outputs": [
    {
     "name": "stdout",
     "output_type": "stream",
     "text": [
      "Movie with the maximum number of user ratings:\n",
      "Movie Title: Forrest Gump (1994)\n"
     ]
    }
   ],
   "source": [
    "\n",
    "# grouping by uid and counting\n",
    "movies_df = pd.read_csv('C:\\\\Users\\\\neera\\\\Downloads\\\\movie_data\\\\movies.csv')  \n",
    "ratings_df = pd.read_csv('C:\\\\Users\\\\neera\\\\Downloads\\\\movie_data\\\\ratings.csv')  \n",
    "\n",
    "# Merge the DataFrames\n",
    "merged_df = pd.merge(ratings_df, movies_df, on='movieId')\n",
    "\n",
    "# Group by movie and count the number of ratings\n",
    "movie_ratings_count = merged_df.groupby('title')['rating'].count()\n",
    "\n",
    "max_rated_movie_title = movie_ratings_count.idxmax()\n",
    "\n",
    "print(\"Movie with the maximum number of user ratings:\")\n",
    "print(\"Movie Title:\", max_rated_movie_title)"
   ]
  },
  {
   "cell_type": "markdown",
   "id": "a90f265b",
   "metadata": {},
   "source": [
    "**6. Select all the correct tags submitted by users to \"Matrix, The (1999)\" movie?**"
   ]
  },
  {
   "cell_type": "code",
   "execution_count": 21,
   "id": "75f78c0c",
   "metadata": {},
   "outputs": [
    {
     "name": "stdout",
     "output_type": "stream",
     "text": [
      "Tags for 'The Matrix (1999)':\n",
      "['martial arts', 'sci-fi', 'alternate universe', 'philosophy', 'post apocalyptic']\n"
     ]
    }
   ],
   "source": [
    "\n",
    "matrix_movie_id = movies_df[movies_df['title'] == 'Matrix, The (1999)']['movieId'].iloc[0]\n",
    "\n",
    "# Filter tags for the specified movieId\n",
    "matrix_tags = tags_df[tags_df['movieId'] == matrix_movie_id]['tag']\n",
    "\n",
    "print(\"Tags for 'The Matrix (1999)':\")\n",
    "print(matrix_tags.tolist())\n"
   ]
  },
  {
   "cell_type": "markdown",
   "id": "dfd29c96",
   "metadata": {},
   "source": [
    "**7. What is the average user rating for movie named \"Terminator 2: Judgment Day (1991)\"?**"
   ]
  },
  {
   "cell_type": "code",
   "execution_count": 22,
   "id": "19bee35d",
   "metadata": {},
   "outputs": [
    {
     "name": "stdout",
     "output_type": "stream",
     "text": [
      "Average user rating for 'Terminator 2: Judgment Day (1991)': 3.970982142857143\n"
     ]
    }
   ],
   "source": [
    "# movieid\n",
    "terminator2_movie_id = movies_df[(movies_df['title'] == 'Terminator 2: Judgment Day (1991)')]['movieId'].iloc[0]\n",
    "\n",
    "# rating\n",
    "terminator2_ratings = ratings_df[ratings_df['movieId'] == terminator2_movie_id]\n",
    "\n",
    "# avarage rting\n",
    "average_rating = terminator2_ratings['rating'].mean()\n",
    "\n",
    "print(\"Average user rating for 'Terminator 2: Judgment Day (1991)':\", average_rating)"
   ]
  },
  {
   "cell_type": "markdown",
   "id": "2afe3094",
   "metadata": {},
   "source": [
    "**8. How does the data distribution of user ratings for \"Fight Club (1999)\" movie looks like?**"
   ]
  },
  {
   "cell_type": "code",
   "execution_count": 24,
   "id": "3eb9f0a1",
   "metadata": {},
   "outputs": [
    {
     "data": {
      "image/png": "[encoded data removed]",
      "text/plain": [
       "<Figure size 1000x600 with 1 Axes>"
      ]
     },
     "metadata": {},
     "output_type": "display_data"
    }
   ],
   "source": [
    "import matplotlib.pyplot as plt\n",
    "\n",
    "fight_club_movie_id = movies_df[(movies_df['title'] == 'Fight Club (1999)')]['movieId'].iloc[0]\n",
    "\n",
    "# ratings\n",
    "fight_club_ratings = ratings_df[ratings_df['movieId'] == fight_club_movie_id]\n",
    "\n",
    "# plotting\n",
    "plt.figure(figsize=(10, 6))\n",
    "plt.hist(fight_club_ratings['rating'], bins=5, edgecolor='black')\n",
    "plt.title('User Ratings Distribution for \"Fight Club (1999)\"')\n",
    "plt.xlabel('Rating')\n",
    "plt.ylabel('Number of Users')\n",
    "plt.show()"
   ]
  },
  {
   "cell_type": "markdown",
   "id": "0920c9ec",
   "metadata": {},
   "source": [
    "Mandatory Operations:\n",
    "1. Group the user ratings based on movieId and apply aggregation operations like count and mean on ratings. \n",
    "2. Apply inner join on dataframe created from movies.csv and the grouped df from step 1.\n",
    "3. Filter only those movies which have more than 50 user ratings (i.e. > 50).\n"
   ]
  },
  {
   "cell_type": "code",
   "execution_count": 27,
   "id": "1035fd6e",
   "metadata": {},
   "outputs": [
    {
     "name": "stdout",
     "output_type": "stream",
     "text": [
      "   movieId  rating_count  average_rating\n",
      "0        1           215        3.920930\n",
      "1        2           110        3.431818\n",
      "2        3            52        3.259615\n",
      "3        4             7        2.357143\n",
      "4        5            49        3.071429\n"
     ]
    }
   ],
   "source": [
    "#group by movieId and apply aggregation operations\n",
    "movie_ratings_stats = ratings_df.groupby('movieId')['rating'].agg(['count', 'mean']).reset_index()\n",
    "\n",
    "#rename columns for clarity\n",
    "movie_ratings_stats.columns = ['movieId', 'rating_count', 'average_rating']\n",
    "\n",
    "print(movie_ratings_stats.head())"
   ]
  },
  {
   "cell_type": "code",
   "execution_count": 33,
   "id": "6d418806",
   "metadata": {},
   "outputs": [
    {
     "name": "stdout",
     "output_type": "stream",
     "text": [
      "   movieId                               title  \\\n",
      "0        1                    Toy Story (1995)   \n",
      "1        2                      Jumanji (1995)   \n",
      "2        3             Grumpier Old Men (1995)   \n",
      "3        4            Waiting to Exhale (1995)   \n",
      "4        5  Father of the Bride Part II (1995)   \n",
      "\n",
      "                                        genres  rating_count  average_rating  \n",
      "0  Adventure|Animation|Children|Comedy|Fantasy           215        3.920930  \n",
      "1                   Adventure|Children|Fantasy           110        3.431818  \n",
      "2                               Comedy|Romance            52        3.259615  \n",
      "3                         Comedy|Drama|Romance             7        2.357143  \n",
      "4                                       Comedy            49        3.071429  \n"
     ]
    }
   ],
   "source": [
    "\n",
    "#merge the two df using an inner join on 'movieId'\n",
    "merged_df = pd.merge(movies_df, movie_ratings_stats, on='movieId', how='inner')\n",
    "\n",
    "print(merged_df.head())"
   ]
  },
  {
   "cell_type": "code",
   "execution_count": 31,
   "id": "e607e4b7",
   "metadata": {},
   "outputs": [
    {
     "name": "stdout",
     "output_type": "stream",
     "text": [
      "   movieId                    title  \\\n",
      "0        1         Toy Story (1995)   \n",
      "1        2           Jumanji (1995)   \n",
      "2        3  Grumpier Old Men (1995)   \n",
      "5        6              Heat (1995)   \n",
      "6        7           Sabrina (1995)   \n",
      "\n",
      "                                        genres  rating_count  average_rating  \n",
      "0  Adventure|Animation|Children|Comedy|Fantasy           215        3.920930  \n",
      "1                   Adventure|Children|Fantasy           110        3.431818  \n",
      "2                               Comedy|Romance            52        3.259615  \n",
      "5                        Action|Crime|Thriller           102        3.946078  \n",
      "6                               Comedy|Romance            54        3.185185  \n"
     ]
    }
   ],
   "source": [
    "# filter only those movies which have more than 50 user ratings (i.e. > 50).\n",
    "\n",
    "filtered_movies = merged_df[merged_df['rating_count'] > 50]\n",
    "\n",
    "print(filtered_movies.head())"
   ]
  },
  {
   "cell_type": "markdown",
   "id": "2c18e702",
   "metadata": {},
   "source": [
    "**9. Which movie is the most popular based on  average user ratings?**"
   ]
  },
  {
   "cell_type": "code",
   "execution_count": 43,
   "id": "67565d40",
   "metadata": {},
   "outputs": [
    {
     "name": "stdout",
     "output_type": "stream",
     "text": [
      "Most popular movie based on average user ratings (with more than 50 ratings):\n",
      "Movie Title: Shawshank Redemption, The (1994)\n",
      "Average Rating: 4.429022082018927\n"
     ]
    }
   ],
   "source": [
    "# Sorting df by average rating in descending order\n",
    "sorted_filtered_df = filtered_movies.sort_values(by='average_rating', ascending=False)\n",
    "\n",
    "most_popular_filtered_movie = sorted_filtered_df.iloc[0]\n",
    "\n",
    "print(\"Most popular movie based on average user ratings (with more than 50 ratings):\")\n",
    "print(\"Movie Title:\", most_popular_filtered_movie['title'])\n",
    "print(\"Average Rating:\", most_popular_filtered_movie['average_rating'])"
   ]
  },
  {
   "cell_type": "markdown",
   "id": "d476e88f",
   "metadata": {},
   "source": [
    "**10. top 5 popular movies based on number of user ratings.**"
   ]
  },
  {
   "cell_type": "code",
   "execution_count": 71,
   "id": "28592191",
   "metadata": {},
   "outputs": [
    {
     "name": "stdout",
     "output_type": "stream",
     "text": [
      "      movieId                                              title  \\\n",
      "1938     2571                                 Matrix, The (1999)   \n",
      "224       260          Star Wars: Episode IV - A New Hope (1977)   \n",
      "418       480                               Jurassic Park (1993)   \n",
      "507       589                  Terminator 2: Judgment Day (1991)   \n",
      "897      1196  Star Wars: Episode V - The Empire Strikes Back...   \n",
      "\n",
      "                                genres  rating_count  average_rating  \n",
      "1938            Action|Sci-Fi|Thriller           278        4.192446  \n",
      "224            Action|Adventure|Sci-Fi           251        4.231076  \n",
      "418   Action|Adventure|Sci-Fi|Thriller           238        3.750000  \n",
      "507                      Action|Sci-Fi           224        3.970982  \n",
      "897            Action|Adventure|Sci-Fi           211        4.215640  \n",
      "Third most popular Sci-Fi movie based on the number of user ratings with high ratings:\n",
      "Movie Title: Jurassic Park (1993)\n",
      "Average Rating: 3.75\n",
      "Number of Ratings: 238\n"
     ]
    }
   ],
   "source": [
    "# filtering sci-fi movies\n",
    "sci_fi_movies = filtered_movies[filtered_movies['genres'].str.contains('Sci-Fi', case=False, na=False)]\n",
    "\n",
    "# sorting by user rating\n",
    "sorted_sci_fi_movies = sci_fi_movies.sort_values(by='rating_count', ascending=False)\n",
    "\n",
    "top_rated_5_sci_fi = sorted_sci_fi_movies.head()\n",
    "print(top_rated_5_sci_fi)\n",
    "\n",
    "third_most_popular_sci_fi_movie = sorted_sci_fi_movies.iloc[2]\n",
    "\n",
    "print(\"Third most popular Sci-Fi movie based on the number of user ratings with high ratings:\")\n",
    "print(\"Movie Title:\", third_most_popular_sci_fi_movie['title'])\n",
    "print(\"Average Rating:\", third_most_popular_sci_fi_movie['average_rating'])\n",
    "print(\"Number of Ratings:\", third_most_popular_sci_fi_movie['rating_count'])"
   ]
  },
  {
   "cell_type": "markdown",
   "id": "0be468e7",
   "metadata": {},
   "source": [
    "Using \"links.csv\", scrape the IMDB reviews of each movie with more than 50 user ratings. "
   ]
  },
  {
   "cell_type": "code",
   "execution_count": 84,
   "id": "3f56cbd3",
   "metadata": {},
   "outputs": [],
   "source": [
    "\n",
    "import requests\n",
    "import numpy as np\n",
    "from bs4 import BeautifulSoup\n",
    "\n",
    "def scrapper(imdbId):\n",
    "    id = str(int(imdbId))\n",
    "    n_zeroes = 7 - len(id)\n",
    "    new_id = \"0\" * n_zeroes + id\n",
    "    URL = f\"https://www.imdb.com/title/tt{new_id}/reviews\"\n",
    "    request_header = {\n",
    "        'Content-Type': 'text/html; charset=UTF-8',\n",
    "        'User-Agent': 'Mozilla/5.0 (Windows NT 10.0; Win64; x64; rv:109.0) Gecko/20100101 Firefox/119.0',\n",
    "        'Accept-Encoding': 'gzip, deflate, br'\n",
    "    }\n",
    "    response = requests.get(URL, headers=request_header)\n",
    "    soup = BeautifulSoup(response.text, 'html.parser')\n",
    "    reviews = soup.find_all('div', class_='text show-more__control')\n",
    "    return [review.get_text(strip=True) for review in reviews]"
   ]
  },
  {
   "cell_type": "code",
   "execution_count": 93,
   "id": "67ccf5a3",
   "metadata": {},
   "outputs": [
    {
     "name": "stdout",
     "output_type": "stream",
     "text": [
      "    movieId                                  title  \\\n",
      "0         1                       Toy Story (1995)   \n",
      "1         2                         Jumanji (1995)   \n",
      "2         3                Grumpier Old Men (1995)   \n",
      "5         6                            Heat (1995)   \n",
      "6         7                         Sabrina (1995)   \n",
      "9        10                       GoldenEye (1995)   \n",
      "10       11         American President, The (1995)   \n",
      "15       16                          Casino (1995)   \n",
      "16       17           Sense and Sensibility (1995)   \n",
      "18       19  Ace Ventura: When Nature Calls (1995)   \n",
      "\n",
      "                                         imdb_reviews  \n",
      "0   [Andy's toys live a reasonable life of fun and...  \n",
      "1   [Among the thousands of films I have viewed, t...  \n",
      "2   [Sequels are rarely half as good as the origin...  \n",
      "5   [Heat (1995) is a movie that is in my DVD coll...  \n",
      "6   [I was surprised at how good this movie is. A ...  \n",
      "9   [Brosnan has the look, the style, the intellig...  \n",
      "10  [One of the greatest movie finale speeches eve...  \n",
      "15  [This is one of the best films of the 90's han...  \n",
      "16  [Wow, here's an emotional story that gets you ...  \n",
      "18  [Despite most views of this movie, I thought i...  \n"
     ]
    },
    {
     "name": "stderr",
     "output_type": "stream",
     "text": [
      "C:\\Users\\neera\\AppData\\Local\\Temp\\ipykernel_8936\\1090871268.py:5: SettingWithCopyWarning: \n",
      "A value is trying to be set on a copy of a slice from a DataFrame.\n",
      "Try using .loc[row_indexer,col_indexer] = value instead\n",
      "\n",
      "See the caveats in the documentation: https://pandas.pydata.org/pandas-docs/stable/user_guide/indexing.html#returning-a-view-versus-a-copy\n",
      "  filtered_movies['imdb_reviews'] = links_df[links_df['movieId'].isin(filtered_movies['movieId'])]['imdbId'].apply(scrapper)\n"
     ]
    }
   ],
   "source": [
    "links_df = pd.read_csv('C:\\\\Users\\\\neera\\\\Downloads\\\\movie_data\\\\links.csv')\n",
    "\n",
    "filtered_movies = merged_df[merged_df['rating_count'] > 50]\n",
    "\n",
    "filtered_movies['imdb_reviews'] = links_df[links_df['movieId'].isin(filtered_movies['movieId'])]['imdbId'].apply(scrapper)\n",
    "\n",
    "print(filtered_movies[['movieId', 'title', 'imdb_reviews']].head(10))"
   ]
  },
  {
   "cell_type": "code",
   "execution_count": 107,
   "id": "26ee3c4f",
   "metadata": {},
   "outputs": [
    {
     "name": "stdout",
     "output_type": "stream",
     "text": [
      "[\"Andy's toys live a reasonable life of fun and peace, their only worries are birthdays and Christmases, when new toys could easily replace those already there.  One such birthday Andy's top toy, Woody the cowboy, finds himself in direct competition with Andy's new Buzz Lightyear doll.  When rivalries boil over Woody tries to hide Buzz down the side of the bed but accidentally pushes him out the window, the other tops expel Woody, and he leaves with no choice but to find Buzz and return him to the house.  But with only two days before Andy moves house, time is of the essence.Given how often the same mix of animation, wit, jokes and kids humour has been used since Toy Story (Ice Age, Monsters Inc, Bugs Life) it is easy to forget how refreshing it was when it first came out.  I have just watched it again and it is dating a little in comparison to more recent twists on the formula.  It seems each one has to be sharper and have more references etc in the background.  However it is still very funny and deserves praise for being the first of a successful formula.The plot is simple but effective and actually has genuine drama and excitement to it.  The main story is fun but the degree of character development is what really shores it up.  The conflict between Buzz and Woody is taken deeper than this and, when confronted by the truth of his status as a toy, Buzz's turmoil is very real as opposed to him being a cartoon character and nothing more.  Despite the two strong leads there is a real depth in the support cast.  They may not actually have that many lines, but they have all the funniest lines.  Most of the `adult' wit comes from the Potato Head, dinosaur, the pig and slinky dog.  They are funny and are very well used.  In fact the majority of this humour and plot will go right over kids heads.Looking back on it, I do feel a cynical edge on it in so much as this film must really have helped sales of the toy companies in the film.  It's hard not to see the marketing department standing behind this film rubbing their hands.  However the actual product is so wonderfully fun that I forgot this quickly.  The voice work is excellent and the characters match the actors. Hanks is good as Woody and Allen has a good B-movie type voice for Buzz. Varney, Ratzenberger, Ermey (doing his usual), Rickles and others are all really good in the support roles and, probably, come out as the favourite characters for adults.Overall this is a classic film that will appeal to adults as much as to kids (if not more).  A good plot and a really sharp script make the already short running time fly by.  The only downside is that your kids will want you to go out and buy the damn things!\", 'This is a very clever animated story that was a big hit, and justifiably so. It had a terrific sequel and if a third film came out, that would probably be a hit, too.When this came out, computer technology just was beginning to strut its stuff. Man, this looked awesome. Now, it\\'s routine because animation, which took a giant leap with this movie, has made a lot more giant strides.The humor in here, however, is what made this so popular. There are tons of funny lines, issued by characters voiced by Tom Hanks, Tim Allen, Jim Varney, Don Rickles, Wallace Shawn and John Ratzenberger, among others. As good as Hanks is as \"Woody\" and Allen as \"Buzz Armstrong,\" I think the supporting characters just about stole the show: Mr. Potato Head, Slinky, Rex the dinosaur, etc.Multiple viewings don\\'t diminish the entertainment, either. There are so many things to catch, audibly and visually, that you always seem to discover something new. The colors in here are beautiful, too. This is a guaranteed \"winner\" as is the sequel.', 'I am a big fan of the animated movies coming from the Pixar Studios. They are always looking for the newest technological possibilities to use in their movies, creating movies that are more than just worth a watch, even when they were made a decade ago.The movie is about toys that come to life when their owner is asleep or not in the same room. When the young boy\\'s birthday is coming up, all the toys are nervous. They don\\'t want to be ignored when the new one arrives. Woody the cowboy is their \"leader\" because he\\'s the most popular one of them all. He\\'s the only one that hasn\\'t got to be afraid, but than a new favorite arrives ... Buzz Lightyear. He hates him and tries everything possible to get rid of him, but as the time passes by they learn to appreciate each other...When you see Toy Story, you may think that the different human like characters (Woody the cowboy for instance) aren\\'t always as perfect as we are used to see in todays animated movies. Perhaps that\\'s true, but if you keep in mind that all this was done in 1995, when computers weren\\'t yet as strong and the technology for creating such movies was almost unknown, than you can only have a lot of respect for what the creators did. I loved the story and liked the animations a lot. I give it an 8.5/10.', \"Toy Story – 5/5 starsChildren play with toys. It is a known fact. At one time or another, we all played with toys, whether they were action figures, dolls, little green soldiers, etc\\x85 But what if toys were real? What if they could talk?Pixar and Disney serve us this theory in what was the first full-length computer-animated film ever, 'Toy Story,' chronicling the events in the life of a cowboy doll, Woody (voiced by Tom Hanks).Woody is the favorite toy of his owner, a small child named Andy. Andy brings Woody everywhere, and cherishes him, as we see in the beginning of the film. However, this all changes on Andy's birthday when Andy gets a new toy: a Buzz Lightyear doll (voiced by Tim Allen). Woody is suddenly forgotten, left with the rest of his friends: Mr. Potato Head (Don Rickles), Rex (Wallace Shawn), Slinky Dog (Jim Varney, better known as Ernest) and Ham (see if you can guess the voice of this one? I'll give you a hint: 'Cheers').But after Buzz accidentally gets knocked out an upstairs window, Woody is the prime suspect. Now, after Woody and Buzz end up next door, in toy killer Sid's house, Woody must prove his innocence by getting both Buzz and him back to Andy's house safely.'Toy Story' builds on an element we all shrug off carelessly and thoughtlessly. Much like they did last year with monsters under the bed, Pixar took the theory of live toys to a new level in 'Toy Story,' filling our minds with endless possibilities.What Pixar does is a strange thing. It doesn't just try to expand our mind, but also out world. I respect and enjoy that. In 'Monsters, Inc.,' Pixar managed to preach to us 'What if monsters under the bed are real, and what if they have a world much like ours, and have feelings like humans,' while never forgetting the equally important formula of humor. Much is the same with their earlier film 'Toy Story.' What if those wooden and plastic toys we all played with as kids are real? What if they have feelings, emotions, voices, and human qualities? An interesting idea by itself, but when mixed with a wicked sense of humor and reality, you've got yourself one of the best films ever.Tom Hanks is perfect as Woody. Pixar must have modeled the doll's expressions and movements after Hanks, because after a while, I feel like I AM watching Hanks on screen, and NOT a computer-generated image. When you get to the point of not being able to tell animation from reality, you know that the voices are good.The same goes for Tim Allen, though the body gestures were most likely not modeled after Allen's physical expressions (Buzz is a short, pot-bellied toy).The rest of the cast is excellent, all very believable and entertaining. You begin to love each character for their distinguishing traits, and that is always refreshing.I can safely say that I have not enjoyed animated films quite so much over the years as I have enjoyed Pixar films. The only film they made that I named forgettable was 'A Bug's Life,' which was in and of it not horrible, but lacking the sense of humor the other Pixar films have and had.Pixar makes very refreshing films. In an era of cheap, made-for-video Disney sequels, rip-off cartoons and television babysitters (i.e. 'The Jungle Book 2), Pixar holds true to the values that made Disney films so entertaining back in the 30's-60's: Respect for the audience's intelligence, humor, provocative ideas to base the film upon, and respect for the audience (not the exact same thing as the first element), all of which are forgotten in this day and age of money-makers. I respect Pixar very much, and after hearing how little Disney does in helping with their films, I feel that Disney is just trying to cash in on their ideas by having their name branded on the posters for Pixar films. Shame on you, Disney. Proof that Disney has no respect for audiences is the fact that they will not let another sequel be made – something that fans like me would rather have than something like 'Finding Nemo.''Toy Story' 1 & 2 are both on my 'favorite films' list. It may sound stupid, but if I made up a top 250 list like IMDb.com, both of those films would be on there; so would 'Monsters Inc.' After an unpromising trailer for Pixar's upcoming film 'Finding Nemo,' I think that after their licensing deal with Disney is disputed (they have to cough up five more ORIGINAL films – not sequels – by 2005), they should definitely try to make a 'Toy Story 3.' I'll be first in line for it, anyway.\", \"Toy Story is a sheer delight to view on the screen.  The characters are well done, the plot is exceptional, and the best thing of all, the film is entirely produced on the computer.  The animation is extraordinary in it's ability to bring such great entertainment to the screen.  The film also teaches some good lessons for the kids like friendship (mainly between Woody and Buzz Light-year).  Spectacular entertainment all around and one of the best films Disney has come with.\", '\"I believe that a filmmaker\\'s entire work is contained within his first film; not that it can all be foreseen, but that it can afterwards be verified.\" – Francois Truffaut (The Films In My Life)Buzz Lightyear, a glossy action figure with a sexy sheen, is not a mere toy. He\\'s a Space Ranger, tasked with protecting the universe from the evil Emperor Zurg! His life has meaning, he is unique, his existence has grand purpose!Woody, a dated cowboy doll, thinks otherwise. He was once a youthful and exuberant toy, the favourite plaything of his owner Andy, but years of existence have shown him the truth: everyone is just a toy, soon to be forgotten and discarded. No one is unique. There is no grand purpose. No universe to save. Better to be a realist, seeing the world without its fake plastic facade and tacky ipod veneer.Of course Buzz thinks Woody is just a crazy old timer. Doesn\\'t Woody realise that Buzz is a genuine Space Ranger?! That he\\'s a member of the Elite Universe Protection Unit! That he alone has information that reveals Emperor Zurg\\'s weakness! That stupid fool!Naturally, we the audience identify with Woody. Buzz seems like an idiot, brainwashed and in desperate need of identity and purpose. The Elite Universe Protection Unit merely elevates believers into a position of exaggerated importance. This is an idle fantasy, an other-worldly hope adopted by those who can\\'t face the dour reality that is the \"real world of toys\".Midway in the film, our heroes stumble across a horde of green alien toys. These aliens worship a giant claw, a mechanical God which they believe will descend and pluck the \"chosen ones\", taking them to some kind of toy heaven. In reality, the claw chooses only deluded souls, and offers them to the devilish Cid Phillips, a sadistic child who mutilates toys. \"Nirvana is coming!\" the aliens whisper, watching as the \"chosen ones\" are airlifted to their deaths.Buzz Lightyear faces a similar scenario later in the film. Having witnessed a television commercial which advertises a vast range of Buzz Lightyear action figures, Buzz must confront the fact that he really is \"just an ordinary toy\" who \"can not fly\". \"Flying\" thus becomes a sort of Nietzschean metaphor, the ability to transcend the \"flesh\" (in this case, injection moulded plastic) and become \"something more\".Buzz\\'s first reaction upon seeing the commercial is to seek refuge in denial. \"I am not a toy!\" he says to himself, before climbing to the top of a staircase. Seeking to validate himself by flying, by defying the laws of toy-dom, he takes a giant jump – a literal leap of faith – and of course falls promptly to the ground. He can\\'t fly.Cue the fastest existential crisis ever seen in a children\\'s film, Buzz Lightyear promptly falling into a deep depression, his faith completely destroyed. His entire existence was based on a lie, a social framework which indoctrinated him into believing that the fate of the whole universe depended on his actions. How can he continue living? Why do anything? What\\'s the point? And more importantly, how the hell did this become a kid\\'s franchise? It\\'s like a demented cartoon by Philip K. Dick (\"Do Plastic Toys Dream of Suicide Switches?\").Then comes the message of the film. Woody tells Buzz that being a Space Ranger doesn\\'t define who he is. His value, status and worth can only be found within the community of toys, on ground level, and not \"up in the skies\". There is no purpose beyond ground zero and our importance lies solely in our ability to bring good to those immediately around us.Buzz heeds Woody\\'s words and quickly gets over his loss of faith. He stages a daring rescue mission, straps a rocket to his back and flies spectacularly in the air, his newfound love for the \"greater good of his family\" quite literally giving him wings.In true Zarathustran fashion, Buzz becomes a pint sized Ubermensch figure, a superman who reaches for the sky but is then brought depressingly back down to Earth. If he would just lower his sights, Woody then says, Buzz would find enough reasons to live. Set free of the \"moral code\" imprinted on him by his makers, Buzz thus adopts a new code which, though it puts limits upon him, negating some of his wild ambitions and reducing him, in an existential sense, to a chunk of plastic, still allows for a Nietzschean war cry. This cry, which Buzz yells every time he jumps across that dark abyss, sums up humanity best: \"To Infinity and Beyond!\"8.9/10 – With its revolutionary visuals, consistent humour, genuine sense of adventure, memorable characters, slick camera work and a couple action/adventure scenes worthy of George Lucas, \"Toy Story\" is a milestone in cinema, and one of the most influential animated films since \"Snow White\".Most interesting, though, is in observing how Brad Bird reverses Lasseter\\'s themes here with his first Pixar feature, \"The Incredibles\". Brad Bird seems to be the bad boy of Pixar, subverting them from within. Viva la Resistance. Worth multiple viewings.', 'Y\\'know, I always suspected that my toys were coming to life when I wasn\\'t looking!In Andy\\'s Room, his toys lead lives of noisy desperation come every birthday and Christmas - no one wants to be one-upped by a new addition to the toy box. Nominally led by Cowboy Woody (there\\'s a Brokeback joke in there just waiting to happen), Mr. Potato Head, Rex the Dinosaur, Ham the piggybank, Bo Peep, Slinky the dog and a smattering of other playthings go about their toy business of playing checkers, hanging with the hometoys and \"plastic corrosion awareness meetings,\" until Andy\\'s birthday party, when they gather expectantly around a transistor radio, listening to the reports of their toy soldier troops \"in the field\" (downstairs watching Andy\\'s gift-opening), hoping that no gift will be exciting enough to cause Andy to neglect *them.* There is. His name is Buzz Lightyear, Space Ranger.Directed by Pixar mainstay John Lasseter, with the voice talents of Tom Hanks (as Woody), Don Rickles, John Ratzenberger (forever Cliff from *Cheers*), R. Lee Ermey, Annie Potts, Jim Varney and Tim Allen (as Buzz), *Toy Story* is that *rara avis* that succeeds on all levels \\x96 in its animation, storyline, character development, its messages of friendship and self-realization and, most importantly, its entertainment value. The fact that this is a cartoon (or animated feature \\x96 just what DO we call this new wave of computer-generated movies?) is incidental. Which makes the slightly dodgy animation (of the \"real people\") irrelevant - it gets the point across with or without the technological finesse.The \"Disney Movie\" has become synonymous with maudlin messages, redneck fundamentalism, anachronistic family values, boneheaded parents, smart-mouthing youngsters, too-hip-to-be-smart teens and insufferable pets. Though Disney\\'s tyrannical umbrella overarches this film\\'s production studio, Pixar Animation, *Toy Story* somehow avoided all trace of Disney\\'s craven hand, which is doubly surprising, considering this is Pixar\\'s first feature length film, after years of experimentation. Right outa the gate and right outa the field.Sure, there are \"messages,\" but they are heartfelt, rather than maudlin (Woody tells Buzz during Buzz\\'s greatest depression that it matters not what Buzz thinks of himself, what makes him important is what his owner, Andy, thinks of him); there are emotional segments, which are truly heartbreaking, rather than cheesy (when Buzz\\'s escape attempt lands him with a broken arm, proving he is Not A Flying Toy, the lyric, \"Clearly I will go sailing no more,\" launches a thousand hankies); and the portrayal of Andy\\'s family was Pixar\\'s triumphal achievement. Boldly contravening Disney\\'s *idée fixe* of the 1950\\'s nuclear family and Norman Rockwell fantasies, one of the many incarnations of a modern-day family is presented: a single mother with two kids, who are neither geniuses nor monsters, just normal children; happy to visit Pizza Planet and disappointed when favorite toys are lost.Buzz \\x96 who believes he is a real life space ranger on a mission to save the universe - become Andy\\'s favorite toy over Woody. The funny thing is: though Buzz believes he is real, he still adheres to toy protocol of \"playing inert\" when humans are in the area. (Maybe it\\'s instinct?) When he mentions saving a toy from Sid, the vicious boy next door, how does he propose to do it if he is to adhere to the inert protocol? Buzz\\'s ingenuousness regarding his role as a toy infuriates Woody to the point of attempted toy-assassination. Through a concatenation of accidents, both he and Buzz become lost and must use teamwork, trust and ingenuity to beat their path back to Andy, which finds them ensconced in scorchingly funny vignettes (Buzz fastening himself in an over-sized seatbelt; both falling in with green, three-eyed aliens; Buzz hyperventilating as \"Mrs. Nesbitt\"). During a climactic rocket ride, the callback line, \"This is not flying - this is falling with style,\" simply seals this movie\\'s greatness.At least I now have a plausible explanation as to why my toys always got lost: after going about their toy business, they would just go inert anywhere they happened to be, instead of paying attention to their master\\'s infallible toy filing system\\x85.', 'What a wonderful integration of classic toys and a superb plot. It\\'s a new height in animation (though things have gotten even more impressive long since). The voicings of Tim Allen as Buzz and Tom Hanks as Woody, with their inherent connection to their toy beings, with an incredible supporting cast, make this a romp to end all romps. There is a strain between the realities of the world and the fact that even though they are sentient beings, they are still toys. Buzz has lights that flash but he can\\'t really fly. Woody has the ludicrous string on his back that allows him to deliver his catch phrases. Then there is the neighborhood villain, Sid, who is a maimer and destroyer of toys. There is the quest for the mishandled and lost. And a finale that is worthy of everything that has been set up. What really makes this work is the \"humanity\" of the characters. There is love and a true connection among them. If you have never seen this, it is worth every minute.', 'With the wonderful collaboration of Pixar and Disney, who as of 2013 have given us some of the most visually impressive and wonderful movies ever made. \"Toy Story\" was the go to film of many childhoods (Including my own), and brought CGI movies into the mainstream with stunning promises & confidence.How things came to be, Lucasfilm sold a portion of their effects company to computer giant Apple (That inevitably became Pixar), who would go on to strike a deal with Disney. Director John Lasseter had lost his job to Disney for pitching the idea of this story, and after the successful development stage he managed to gain back the confidence of Disney, and alas the rest is history.I bring this story up just to reflect how far we\\'ve matured in terms of story telling & technology. The idea of adults giving kids morals & entertainment through animation, wonderfully echoes that of what Walt Disney set out to do so many decades ago. Toy Story has aged extraordinarily well for the first CGI film ever made. Held together mostly for its impeccable casting, I feel ashamed now 20+ years old and much more experienced in movies to say I still look at Tom Hanks & Tim Allen, and almost immediately think \"Toy Story\". As well as the stellar supporting cast, its visuals are fantastic and the music is timeless. Writers include a young Joss Whedon, and with a rotten antagonist by the name of Sid, makes this movie just as entertaining now as it was then.Final Verdict: It\\'s hard to find any flaw with such a beloved movie, especially the one now most adults will first show their kids. It has everything to move and touch you deeply, and to believe a bunch of 0\\'s and 1\\'s flying around in digital space can do that, \"Toy Story\" is that proof. 10/10.', 'This is as close to perfection as any animated film has come, entertained parents on a equal plane with their children, and set the bar to the top of the animation film industry. No film has yet come close to Toy Story in legitimizing animation as a film art on the level of movies with live actors. Great comedies are hard to come by - Toy Story strikes gold on that basis alone, but is so much more. One of the Top 100 Greatest Films of All Time, and currently resides on my \"Top 10 Greatest Comedy Films (1960-Present)\" list.', \"Toy Story is not only the best Disney film because it has the best story and the best animation, but also because of the excellent actors chosen to provide the voices of the animals. The casting was perfect from top to bottom, and the movie provides an excellent adventure story about friendship and loyalty that keeps you engrossed until the nail-biting climax.Tom Hanks and Tim Allen provided excellent voices for Woody and Buzz Lightyear -their performances alone are one of the biggest things that made this such a spectacular movie. Besides that, though, you have the excellent story that is not only noteworthy because it has never really been told from this perspective before, but also because it was just told so well. All of the characters in the film are very well developed and all have appropriate and effective actors chosen to provide their voices.And of course, who could forget the revolutionary animation! The computer animation used for this movie not only made it startlingly realistic but also opened up tons of possibilities, and thankfully the filmmakers chose to explore these possibilities. There are dozens of things that are hidden in the woodwork throughout the film, as well as in the songs \\x96 note, for example, the subtle playing of the Indiana Jones theme song in the scene where Woody knocks Buzz out the window with the desk lamp.Toy Story is by far the best Disney film ever made, it's pretty much perfect. It's adventurous, it's exciting, it's entertaining, it's good for the whole family, it's got great characters, story, and plot, and above all, it's fun.\", \"Though I am not a big fan of computer animation,I have to give the folks at Pixar credit.This brand of animation is nothing short of brilliant.The attention to detail,such as eye and body movement is quite remarkable.Computers allow them to make their characters as close to human like as possible,something we have never seen in traditional hand drawn animation,though the latter will always be the closest to my heart.Combine this excellence with a genuinely good story idea and a top notch voice cast and the result is good family entertainment.It's obvious that the people at Pixar are not only caring perfectionists when it comes to film making,but they care about our kids,something rarely seen today.Highly recommended for any home library.\", 'Toy Story is one of my favourite animated films! Even as an adult I can still watch it and be entertained. This film is not only nostalgic but is relatable, emotional and a lot of fun!', \"I remember seeing this film at the ripe age of seven, and I was totally entranced by it. What kid would not have been attracted to that sweet of a premise? Released way back in 1999, it was totally different from the usual hand drawn animation, and yet still as vibrant, if not more so. Even now as an 18 year old dude I find it so amazing. Attention to detail has always been Lasseter's strong suit, among many I might add. But the greatest thing about this film was the life evoked into its unique and untouchable characters.With the voice talents of Tim Allen, Tom Hanks, as well as the hilarious Don Rickles, and the late Jim Varney, the voice acting was perfect and the dialogue was surprisingly intelligent throughout. What could be perceived more or less as a simple story is told with heart and humor, one that hasn't aged a bit since that first viewing. I still own my original VHS copy in fact, but perhaps it's time I buy it on Blu-ray or DVD.\", 'I\\'m 19, going on 20 in six days. I don\\'t need to tell you that \"Toy Story\" is a movie tailor-made for the kiddies, but there\\'s a special reservation for adults too. I should know, as should anyone who views it with an open mind. We\\'ve all had our favorite toys. For guys, like me, there\\'s a 90% chance you played with either Transformers or G.I. Joe or Teenage Mutant Ninja Turtles or all three when you were six, seven, eight, or nine years-old. For me, it was Teenage Mutant Ninja Turtles and Godzilla action figures. I\\'d always imagine living out wild fantasy adventures in my room or basement; ah, the joy of being a kid again. But that\\'s part of \"Toy Story\\'s\" fun appeal. It gives you a chance to relive your childhood again. Today I saw for the first time in about eight years and it\\'s still just as fresh and inventive as Pixar, probably the best film studio in computer animation, conceived it back in 1995. In the room of young Andy, the toys are alive - when he\\'s not present of course, and cowboy Woody (voiced by Tom Hanks) is the boy\\'s favorite item. But all that changes on Andy\\'s birthday and a new toy given to him on that day captures the boy\\'s heart - Buzz Lightyear (voiced by Tim Allen). Of course, any replacement of this sort inspires jealousy, and pretty soon Buzz is the new \"it\" item of the bedroom. Andy\\'s given into everything Buzz Lightyear, even new bedsheets - bedsheets! - leaving poor Woody on the short end of the stick. But the thing is, Buzz has trouble believing he\\'s just a simple toy and nothing more, as he thinks he\\'s actually BUZZ LIGHTYEAR! It also seems this couldn\\'t have come at a worse time for the toys, as Andy and his mother are moving away, which is causing all sorts of chaos as Woody tries to get everything organized so nobody is left behind, and that\\'s exactly what happens with rivals Woody and Buzz, who are misplaced and must find their beloved Andy before they move. Not only that, they must also battle Sid, the serial killer in-training kid that lives next door and tortures toys. As directed by John Lasseter and his army of screenwriters including himself, Andrew Stanton (who would co-direct Pixar\\'s future hit \"Finding Nemo\" in 2003) and Joel Cohen, \"Toy Story\" is true imaginative fantasy realized in superb animation. It more than brings the kid in you to the surface, it makes you want to be a kid again, as many toys have cameos including Army Men (including the Sergeant who\\'s voiced by R. Lee Ermey) and Mr. Potato Head (voiced by Don Rickles). I love \"Toy Story,\" and I think anyone who views it thoughtfully will love it too.10/10', \"The first feature length Pixar film and the first feature film to be made entirely in computer animated imagery Toy Story was a milestone in film history. But apart from it's massive impact, Toy Story is still a really great film. The toys in the bedroom of Andy Davis (John Morris) are alive (when Andy doesn't look) and seem to have their own community set up. The most popular toy being Andy's favorite toy, a toy cowboy named Woody (Tom Hanks). But that might change this birthday when Andy get's a new toy named Buzz Lightyear (Tim Allen) a toy spaceman who still thinks that he's a real spaceman. To add on to that Woody takes an immediate disliking to Buzz because Andy seems to play with him more now and all the other toys go the same route. Well Woody and Buzz inadvertently end up in the house of Sid Phillips (Erik Von Detten) the destructive next door neighbor who is pretty much the type of person that would put a turtle on it's shell for fun. So Woody and Buzz have to overcome their differences and get back to Andy's house before he moves. This film's story is great and intriguing. The comedy here is also great. The dialog between Woody and Buzz is very funny. I definitely recommend this movie to anyone who hasn't seen it. It's the birthplace of Pixar who over the years have proved themselves worthy of the praise given by adults and children alike.\", 'Just in case you were also wondering what happened to all the toys that went missing when you were a kid, the answer is clear: They escaped.\"Toy Story\" is the kind of children\\'s movie adults can enjoy just as much, because it very cleverly mines deep deposits of nostalgia from the memory banks. That may be the reason the 1990s bedroom of young Andy is populated by playthings of the 1960s, 1970s, and 1980s. If Andy was a real boy of his time, there would be a computer and a TV/Nintendo, and not much else.The voicings of the various toys add to the enjoyability. Tom Hanks was the biggest star of the moment when \"Toy Story\" came out, and he works with that likeability by creating a stable center as Woody the cowboy doll. Don Rickles has the screen role of his career (not that \"Kelly\\'s Heroes\" was Oscar material) as a prickly Mr. Potato Head, while Jim Varney and R. Lee Ermey are standouts in the supporting cast.Tim Allen gives the movie\\'s best performance, as a newfangled toy that takes Woody\\'s place in Andy\\'s heart but can\\'t bring himself to accept that he\\'s just a plastic plaything. It\\'s the role of the story that gives him the best lines (\"I don\\'t believe that man has ever been to medical school\"), but Allen delivers them with real panache. He more than holds his own, and you kind of see where he took off with that note-perfect William Shatner parody he perfected on screen in the underrated \"Galaxy Quest.\"While this movie\\'s use of computer animation makes it a milestone, it neither represents the most innovative use of the technology or the cleverest Pixar-ated treatment of a story. \"A Bug\\'s Life\" seems a more worthy apex; that story was funnier, worked better on its own merits, and used the animation to better effect. But given how novel all of this was in 1995, \"Toy Story\" could have been a lot less thought-through than it was, and still made gobs of money. The fact it is instead invested with real heart, and can be watched and enjoyed today just as easily as when it debuted nearly 10 years ago, is a tribute to the people behind it.I like Randy Newman\\'s music, just not here, and while the animation textures are surprisingly lifelike, there are places, especially with Scud the dog but also with the baby\\'s drool, where it falls short. The story itself gets kind of rote with repeat viewings, though the transition to Sid\\'s bedroom and its sad mutilated toys is a genius moment. So too are the vending machine aliens, who gape in rapt wonder at the judgment of \"the claw.\" If it reached for pathos a little less often, \"Toy Story\" would be an undeniable classic.As it is, it is very, very good, the kind of film that\\'s only good for children, even (especially?) the inner ones.', \"Toy Story is one of those rare animated movies, designed for children, that adults can enjoy.Plot In A Paragraph: Sheriff Woody (Tom Hanks) is 8 year old Andy's favourite toy, however his world falls apart when Andy gets a Buzz Lightyear (Tim Allen) figure for his birthday and he has to play second fiddle to the new space ranger.I loved this movie. Over the years I have watched it with both my kids and nieces and nephews and they have all enjoyed it. Watching it now, it has lost none of its charm.Tom Hanks is superb as Woody, Tim Allen (who I'm not a fan of) is delightful as the deluded Buzz Lightyear who is not aware he is an action figure, but for me the stand out voice was John Ratzenberger as Pork Chop the Piggy Bank.\", 'Toy Story is the film that started Pixar Animated Studios into its long string of never ending success. What Pixar does is not just absorb the younger demographic and keep the older ones mildly entertained. It completely absorbs everyone watching no matter the age or the level of maturity, films of Pixar, starting from Toy Story, have kept a certain magical touch around it with an unexpected amount of depth. Everyone as a child imagines their toys will come alive and go on their own adventures. One of the great things Pixar does is that it does not attract audiences with its overloaded superstar casts but rather with its material. The only superstar here is Tom Hanks and Tim Allen is the next most aforementioned voice over. Unlike what most people think their is an actually a method to casting for animated films as there is to a live-action one. As a result of this Pixar stays faithful to its material and creates a great genuine and warm feeling around the film and its characters.', 'Toy Story is just a wonderful film, that I recommend to anyone who loves animation. I will also say that it is definitely the best Pixar movie to date, all of which are extremely good, even the weaker efforts Cars and the Incredibles are well worth watching. I loved the voice talents, the talented Tom Hanks is perfect as Woody, and Tim Allen likewise as Buzz. Both characters are hugely engaging thanks to their frequent conflicts, and are well supported by excellent supporting characters like Potato Head, Rex, Ham and Little Bo Beep, voiced by the likes of Don Rickles, Jim Varney, John Ratzenberger and Annie Potts. Not to mention the hilarious toy aliens, and the creepy kid Sid. The voice talents aren\\'t the only things worth mentioning, the film has a remarkable story and a truly irreverent script (\"I\\'m from Mattel, actually I\\'m from a smaller company that was purchased by Mattel in a leveraged buyout\"). But the best aspect of the movie is the phenomenal animation, which was colourful and sophisticated with brilliant character movement. Honestly, I loved this movie, and I also thought the sequel is one of the few sequels of recent times, that actually manages to surpass its predecessor. All in all, a wonderful film, that is a must-see for the whole family. 10/10 Bethany Cox.', \"I re-watched this for the first time in about 15 years and it still holds up remarkably well. The animation is still very expressive at capturing character, tone and making a believable world unto itself. Pixar would go on to create more polished films but this one has all the hallmarks of the company. The story is enjoyable for children and if parents squint they can see a metaphor in employment turnover. (Not to mention the cultural transition from westerns to sci-fi, or the meta irony of 2d cell animation being supplanted by CGI). The film is equal parts charming, funny and exciting. It even tugs at the heartstrings not matter how cynical you are. It is far from Pixar's best but it holds its own in the pantheon of animated films.\", 'Disney and Pixar studios team up and brought us an imaginative adventure story about a little boy named Andy who loves playing with his toys, with his best friend being a cowboy doll named Woody. However, when Andy and not body else is looking, the toys come to life. Woody is the leader of the toys in Andy\\'s room, which include a Mr. Potato Head, Slinky the Dog, Rex the Dinosaur, Hamm the Pig and Bo-Peep the girl doll. However, when Andy\\'s get new toy space ranger Buzz Lightyear for his birthday, Buzz takes the place of Woody of being leader of the toys and Andy\\'s new best friend. Brewing with jealously, Woody attempts to get rid of Buzz, but both ended up lost outside of Andy\\'s house. As a result, they must find their way back to Andy\\'s house before they move - first trying to get through Andy\\'s weird neighbor and toy torturer Sid.This is filmed in brilliant and colorful computer animation - very detailed and realistic. The story is full of surprises and adventure, from Woody and Buzz getting lost in a pizza shop to them trying to break loose out of Sid\\'s house to get back to Andy\\'s. The movie is also filled with comedy; you will have to watch the movie to appreciate and understand the humor only live toys could make. And, there are toe-tapping songs you would learn to love including Randy Newman\\'s opening song \"You\\'ve Got a Friend in Me.\" While this movie\\'s plot is full of non-stop fun and adventure, making every moment exciting and entertaining, the film also concentrates on friendship and teamwork and overcoming all odds. While I mostly enjoyed this movie, I wished that Woody was not made out to be hated on so much by the other toys after Woody\\'s jealous behavior towards Buzz. I thought this takes away at Woody\\'s hero status too much especially for his first movie.But overall, this is one of Disney\\'s best work, which will make you suspend your disbelief and expand your imagination. Also, hands down to a great voice cast: Tom Hanks, Tim Allen, Annie Potts and Jim Varney.Grade B+', \"A wonderfully sculpted piece of filmmaking. It brings us into a new age and may this new age have films that are just as delightfully witty as this pleasing film for all ages. The laughs are constant, there's great creativity at work, from the artists and the numerous talents who lend their voices. Hanks, Allen, Rickles and Ermey stand out in their performances.\", 'This was the very first computer animated film from Walt Disney Pictures and Pixar Animation, it is just excellent. It is showing what happens when the young Andy leaves his room, his toys come to life! Woody the cowboy is Andy\\'s favourite toy, and looks after all the other toys (and he is a very good Tom Hanks voicing). Unfortunately on Andy\\'s early birthday party he gets a new favourite toy, Buzz Lightyear the space ranger (voiced by Tim Allen). Woody obviously gets jealous and both him and Buzz end up lost, and then in evil Sid\\'s room. For a kid, Sid is a good villain. Woody and Buzz are now trying to find a way to get back to their owner. Also starring Don Rickles as Mr. Potato Head, John Ratzenberger as Hamm, Wallace Shawn as Rex, Jim Varney as Slinky, Annie Potts as Bo Peep, John Morris as Andy, Scream 2\\'s Laurie Metcalf as Andy\\'s Mom, Full Metal Jacket\\'s R. Lee Ermey as Army Sarge and Jeff Pidgeon as Green Aliens.With recognisable toys for every generation, and the Oscar and Golden Globe nominated song \"You\\'ve Got a Friend\" and Oscar nominated music by Randy Newman, this is a great family film. It was nominated the Oscar for Best Writing, Screenplay Written Directly for the Screen and a Special Achievement Award (fior creation of a feature-length computer-animated film), it was nominated the BAFTA for Best Special Visual Effects, and it was nominated the Golden Globe for Best Motion Picture - Comedy/Musical. It was number 5 on The 100 Greatest Family Films, along with the sequel, both was number 4 on The 100 Greatest Cartoons, and it was number 40 on The 100 Greatest Films. Outstanding!']\n"
     ]
    }
   ],
   "source": [
    "print(filtered_movies['imdb_reviews'][0])"
   ]
  },
  {
   "cell_type": "code",
   "execution_count": 133,
   "id": "5e75668d",
   "metadata": {},
   "outputs": [
    {
     "name": "stdout",
     "output_type": "stream",
     "text": [
      "      movieId                             title imdb_ratings\n",
      "0           1                  Toy Story (1995)          8.3\n",
      "1           2                    Jumanji (1995)          7.1\n",
      "2           3           Grumpier Old Men (1995)          6.6\n",
      "5           6                       Heat (1995)          8.3\n",
      "6           7                    Sabrina (1995)          6.3\n",
      "...       ...                               ...          ...\n",
      "8287   106782   Wolf of Wall Street, The (2013)          NaN\n",
      "8354   109374  Grand Budapest Hotel, The (2014)          NaN\n",
      "8358   109487               Interstellar (2014)          NaN\n",
      "8457   112852    Guardians of the Galaxy (2014)          NaN\n",
      "8673   122904                   Deadpool (2016)          NaN\n",
      "\n",
      "[436 rows x 3 columns]\n"
     ]
    },
    {
     "name": "stderr",
     "output_type": "stream",
     "text": [
      "C:\\Users\\neera\\AppData\\Local\\Temp\\ipykernel_8936\\121925495.py:28: SettingWithCopyWarning: \n",
      "A value is trying to be set on a copy of a slice from a DataFrame.\n",
      "Try using .loc[row_indexer,col_indexer] = value instead\n",
      "\n",
      "See the caveats in the documentation: https://pandas.pydata.org/pandas-docs/stable/user_guide/indexing.html#returning-a-view-versus-a-copy\n",
      "  filtered_movies_rating['imdb_ratings'] = links_df[links_df['movieId'].isin(filtered_movies_rating['movieId'])]['imdbId'].apply(rating_scrapper)\n"
     ]
    }
   ],
   "source": [
    "import requests\n",
    "import numpy as np\n",
    "import pandas as pd\n",
    "from bs4 import BeautifulSoup\n",
    "\n",
    "def rating_scrapper(imdbId):\n",
    "    id = str(int(imdbId))\n",
    "    n_zeroes = 7 - len(id)\n",
    "    new_id = \"0\" * n_zeroes + id\n",
    "    URL = f\"https://www.imdb.com/title/tt{new_id}/\"\n",
    "    request_header = {\n",
    "        'Content-Type': 'text/html; charset=UTF-8',\n",
    "        'User-Agent': 'Mozilla/5.0 (Windows NT 10.0; Win64; x64; rv:109.0) Gecko/20100101 Firefox/119.0',\n",
    "        'Accept-Encoding': 'gzip, deflate, br'\n",
    "    }\n",
    "    response = requests.get(URL, headers=request_header)\n",
    "    soup = BeautifulSoup(response.text)\n",
    "    imdb_rating = soup.find('span', class_= 'sc-bde20123-1 cMEQkK')\n",
    "    return imdb_rating.text if imdb_rating else np.nan\n",
    "\n",
    "# Assuming 'links.csv' is in the same directory as your script\n",
    "links_df = pd.read_csv('C:\\\\Users\\\\neera\\\\Downloads\\\\movie_data\\\\links.csv')\n",
    "\n",
    "# Filter movies with more than 50 user ratings\n",
    "filtered_movies_rating = merged_df[merged_df['rating_count'] > 50]\n",
    "\n",
    "# Apply the scraper function to fetch IMDb ratings for each movie\n",
    "filtered_movies_rating['imdb_ratings'] = links_df[links_df['movieId'].isin(filtered_movies_rating['movieId'])]['imdbId'].apply(rating_scrapper)\n",
    "\n",
    "# Display the resulting DataFrame with IMDb ratings\n",
    "print(filtered_movies_rating[['movieId', 'title', 'imdb_ratings']])\n"
   ]
  },
  {
   "cell_type": "markdown",
   "id": "c0336472",
   "metadata": {},
   "source": [
    "highest imdb rated movie "
   ]
  },
  {
   "cell_type": "code",
   "execution_count": 147,
   "id": "b949505a",
   "metadata": {},
   "outputs": [
    {
     "name": "stdout",
     "output_type": "stream",
     "text": [
      "Movie with the maximum number of user ratings:\n",
      "Movie Title: 318\n",
      "movieId                                        318\n",
      "title             Shawshank Redemption, The (1994)\n",
      "genres                                 Crime|Drama\n",
      "rating_count                                   317\n",
      "average_rating                            4.429022\n",
      "imdb_ratings                                   9.3\n",
      "Name: 277, dtype: object\n"
     ]
    }
   ],
   "source": [
    "#filtered_movies_rating['imdb_ratings'] = pd.to_numeric(filtered_movies_rating['imdb_ratings'] ,errors='coerce')\n",
    "\n",
    "max_rated_movie = filtered_movies_rating.loc[filtered_movies_rating['imdb_ratings'].idxmax()]\n",
    "\n",
    "print(\"Movie with the maximum number of user ratings:\")\n",
    "print(\"Movie Title:\", max_rated_movie['movieId'])\n",
    "print(max_rated_movie)"
   ]
  },
  {
   "cell_type": "markdown",
   "id": "faf8184e",
   "metadata": {},
   "source": [
    "highest imdb rated sci-fi movie"
   ]
  },
  {
   "cell_type": "code",
   "execution_count": 152,
   "id": "5c91dc33",
   "metadata": {},
   "outputs": [
    {
     "name": "stdout",
     "output_type": "stream",
     "text": [
      "     movieId         title         genres  rating_count  average_rating  \\\n",
      "914     1214  Alien (1979)  Horror|Sci-Fi           146        3.969178   \n",
      "\n",
      "     imdb_ratings  \n",
      "914           8.7  \n"
     ]
    }
   ],
   "source": [
    "sci_fi_movies = filtered_movies_rating[filtered_movies_rating['genres'].str.contains('Sci-Fi', case=False, na=False)]\n",
    "\n",
    "sorted_sci_fi_movies = sci_fi_movies.sort_values(by='imdb_ratings', ascending=False)\n",
    "\n",
    "print(sorted_sci_fi_movies.head(1))"
   ]
  }
 ],
 "metadata": {
  "kernelspec": {
   "display_name": "Python 3 (ipykernel)",
   "language": "python",
   "name": "python3"
  },
  "language_info": {
   "codemirror_mode": {
    "name": "ipython",
    "version": 3
   },
   "file_extension": ".py",
   "mimetype": "text/x-python",
   "name": "python",
   "nbconvert_exporter": "python",
   "pygments_lexer": "ipython3",
   "version": "3.11.5"
  }
 },
 "nbformat": 4,
 "nbformat_minor": 5
}
